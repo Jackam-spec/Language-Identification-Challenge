{
 "cells": [
  {
   "cell_type": "markdown",
   "metadata": {
    "id": "TUJvZ5AB66eB"
   },
   "source": [
    "# <center>South African Language Identification</center>\n",
    "\n",
    "\n",
    "© Explore Data Science Academy"
   ]
  },
  {
   "cell_type": "markdown",
   "metadata": {
    "id": "K69W77Mn7j3g"
   },
   "source": [
    "## <center>Introduction</center>"
   ]
  },
  {
   "cell_type": "markdown",
   "metadata": {},
   "source": [
    "South Africa is a multicultural society that is characterised by its rich linguistic diversity. Language is an indispensable tool that can be used to deepen democracy and also contribute to the social, cultural, intellectual, economic and political life of the South African society.\n",
    "\n",
    "The country is multilingual with 11 official languages, each of which is guaranteed equal status. Most South Africans are multilingual and able to speak at least two or more of the official languages.\n",
    "\n",
    "The key deliverables in this project include:\n",
    "* Developing a model that can identify South African languages based on the dataset provided.\n",
    "* Provide a clear explanation about the performance of the model.\n",
    "* Analyse the data and generate valuable insights to inform model tuning.\n",
    "* Provide recommendations based on the performance of classification models applied to the dataset. "
   ]
  },
  {
   "cell_type": "markdown",
   "metadata": {},
   "source": [
    "###  Table of Contents"
   ]
  },
  {
   "cell_type": "markdown",
   "metadata": {},
   "source": [
    "\n",
    "* 1. [Importing Packages](#Importing_Packages)\n",
    "\n",
    "* 2. [Loading Data](#Loading_Data)\n",
    "\n",
    "* 3. [Data Preproprocessing](#Data_Preprocessing)\n",
    "    \n",
    "* 4. [Feature Engineering](#Feature_Engineering)\n",
    "    * 4.1. [Tfid Vectorizer](#tfidvectorizer)\n",
    "    * 4.2. [Count Vectorizer](#countvectorizer)\n",
    "    * 4.3. [Prepare Data for Training](#preparedatafortraining)\n",
    "    \n",
    "* 5. [Modelling](#Modelling)\n",
    "    * 5.1. [Build Classification Models](#buildclassificationmodels)\n",
    "    * 5.2. [Logistic Regression](#logisticregression)\n",
    "    * 5.3. [Passive Aggressive Classifier](#passiveaggressiveclassifier)\n",
    "    * 5.4. [XGBoost Classifier](#xgboostclassifer)\n",
    "    * 5.5. [Naive Bayes](#naivebayes)\n",
    "    * 5.6. [Submission](#submission)\n",
    "    \n",
    "* 6. [Conclusion](#Conclusion)"
   ]
  },
  {
   "cell_type": "markdown",
   "metadata": {
    "id": "tL2kUM5f-iFC"
   },
   "source": [
    " \n",
    "## 1. Importing Packages <a class=\"anchor\" id=\"Importing_Packages\"></a>"
   ]
  },
  {
   "cell_type": "code",
   "execution_count": 2,
   "metadata": {
    "executionInfo": {
     "elapsed": 1149,
     "status": "ok",
     "timestamp": 1648731193416,
     "user": {
      "displayName": "Kamire",
      "userId": "11293208691524921421"
     },
     "user_tz": -180
    },
    "id": "TwB51nKw-tkF"
   },
   "outputs": [
    {
     "name": "stderr",
     "output_type": "stream",
     "text": [
      "/Users/jack/.pyenv/versions/3.10.2/lib/python3.10/site-packages/xgboost/compat.py:36: FutureWarning: pandas.Int64Index is deprecated and will be removed from pandas in a future version. Use pandas.Index with the appropriate dtype instead.\n",
      "  from pandas import MultiIndex, Int64Index\n"
     ]
    }
   ],
   "source": [
    "# Libraries for data loading, data manipulation and data visulisation\n",
    "%matplotlib inline\n",
    "import pandas as pd\n",
    "import numpy as np\n",
    "import matplotlib.pyplot as plt\n",
    "import seaborn as sns\n",
    "from wordcloud import WordCloud, STOPWORDS , ImageColorGenerator\n",
    "\n",
    "# Libraries for Data Preprocessing and Modelling\n",
    "import string\n",
    "import re\n",
    "from sklearn.feature_extraction.text import CountVectorizer, TfidfVectorizer\n",
    "from sklearn import metrics\n",
    "from sklearn.metrics import accuracy_score, classification_report, confusion_matrix\n",
    "from sklearn.model_selection import train_test_split\n",
    "from sklearn.linear_model import PassiveAggressiveClassifier, LogisticRegression\n",
    "from sklearn.naive_bayes import MultinomialNB, GaussianNB,BernoulliNB\n",
    "from sklearn.neighbors import KNeighborsClassifier\n",
    "from sklearn.svm import SVC\n",
    "from sklearn.discriminant_analysis import QuadraticDiscriminantAnalysis\n",
    "from sklearn.tree import DecisionTreeClassifier\n",
    "from sklearn.ensemble import RandomForestClassifier, AdaBoostClassifier\n",
    "from sklearn.preprocessing import LabelEncoder\n",
    "import xgboost as xgb\n",
    "\n",
    "# Set Plot Style\n",
    "sns.set()\n",
    "import warnings\n",
    "warnings.filterwarnings('ignore')"
   ]
  },
  {
   "cell_type": "markdown",
   "metadata": {
    "id": "oU3okGwGBJfs"
   },
   "source": [
    "## 2. Loading Data <a class=\"anchor\" id=\"Loading_Data\"></a>"
   ]
  },
  {
   "cell_type": "markdown",
   "metadata": {
    "id": "WxZJvaD3HmhE"
   },
   "source": [
    "The dataset is an aggregation South African official languages, which total about 11. The dataset contains:\n",
    "* lang-id: Unique String (Language Abbreviation)\n",
    "* text: Sample texts in different languages.\n",
    "\n"
   ]
  },
  {
   "cell_type": "code",
   "execution_count": 3,
   "metadata": {
    "colab": {
     "base_uri": "https://localhost:8080/",
     "height": 206
    },
    "executionInfo": {
     "elapsed": 28,
     "status": "ok",
     "timestamp": 1648731193417,
     "user": {
      "displayName": "Kamire",
      "userId": "11293208691524921421"
     },
     "user_tz": -180
    },
    "id": "ty2Rfu0YBQ10",
    "outputId": "df1eb970-9189-4e35-a1b0-337b54751412"
   },
   "outputs": [
    {
     "data": {
      "text/html": [
       "<div>\n",
       "<style scoped>\n",
       "    .dataframe tbody tr th:only-of-type {\n",
       "        vertical-align: middle;\n",
       "    }\n",
       "\n",
       "    .dataframe tbody tr th {\n",
       "        vertical-align: top;\n",
       "    }\n",
       "\n",
       "    .dataframe thead th {\n",
       "        text-align: right;\n",
       "    }\n",
       "</style>\n",
       "<table border=\"1\" class=\"dataframe\">\n",
       "  <thead>\n",
       "    <tr style=\"text-align: right;\">\n",
       "      <th></th>\n",
       "      <th>lang_id</th>\n",
       "      <th>text</th>\n",
       "    </tr>\n",
       "  </thead>\n",
       "  <tbody>\n",
       "    <tr>\n",
       "      <th>0</th>\n",
       "      <td>xho</td>\n",
       "      <td>umgaqo-siseko wenza amalungiselelo kumaziko ax...</td>\n",
       "    </tr>\n",
       "    <tr>\n",
       "      <th>1</th>\n",
       "      <td>xho</td>\n",
       "      <td>i-dha iya kuba nobulumko bokubeka umsebenzi na...</td>\n",
       "    </tr>\n",
       "    <tr>\n",
       "      <th>2</th>\n",
       "      <td>eng</td>\n",
       "      <td>the province of kwazulu-natal department of tr...</td>\n",
       "    </tr>\n",
       "    <tr>\n",
       "      <th>3</th>\n",
       "      <td>nso</td>\n",
       "      <td>o netefatša gore o ba file dilo ka moka tše le...</td>\n",
       "    </tr>\n",
       "    <tr>\n",
       "      <th>4</th>\n",
       "      <td>ven</td>\n",
       "      <td>khomishini ya ndinganyiso ya mbeu yo ewa maana...</td>\n",
       "    </tr>\n",
       "  </tbody>\n",
       "</table>\n",
       "</div>"
      ],
      "text/plain": [
       "  lang_id                                               text\n",
       "0     xho  umgaqo-siseko wenza amalungiselelo kumaziko ax...\n",
       "1     xho  i-dha iya kuba nobulumko bokubeka umsebenzi na...\n",
       "2     eng  the province of kwazulu-natal department of tr...\n",
       "3     nso  o netefatša gore o ba file dilo ka moka tše le...\n",
       "4     ven  khomishini ya ndinganyiso ya mbeu yo ewa maana..."
      ]
     },
     "execution_count": 3,
     "metadata": {},
     "output_type": "execute_result"
    }
   ],
   "source": [
    "df_train = pd.read_csv('data/train_set.csv')\n",
    "df_test = pd.read_csv('data/test_set.csv')\n",
    "samplesubmission = pd.read_csv('data/sample_submission.csv')\n",
    "\n",
    "# Preview Train Data\n",
    "df_train.head()"
   ]
  },
  {
   "cell_type": "markdown",
   "metadata": {
    "id": "bfhUl2mKJzLJ"
   },
   "source": [
    "Let us look at the bottom rows of the train data."
   ]
  },
  {
   "cell_type": "code",
   "execution_count": 4,
   "metadata": {
    "colab": {
     "base_uri": "https://localhost:8080/",
     "height": 206
    },
    "executionInfo": {
     "elapsed": 24,
     "status": "ok",
     "timestamp": 1648731193418,
     "user": {
      "displayName": "Kamire",
      "userId": "11293208691524921421"
     },
     "user_tz": -180
    },
    "id": "tOFVHJyYJ6TN",
    "outputId": "ef766d35-70b9-4118-9501-0833893fc4c4"
   },
   "outputs": [
    {
     "data": {
      "text/html": [
       "<div>\n",
       "<style scoped>\n",
       "    .dataframe tbody tr th:only-of-type {\n",
       "        vertical-align: middle;\n",
       "    }\n",
       "\n",
       "    .dataframe tbody tr th {\n",
       "        vertical-align: top;\n",
       "    }\n",
       "\n",
       "    .dataframe thead th {\n",
       "        text-align: right;\n",
       "    }\n",
       "</style>\n",
       "<table border=\"1\" class=\"dataframe\">\n",
       "  <thead>\n",
       "    <tr style=\"text-align: right;\">\n",
       "      <th></th>\n",
       "      <th>lang_id</th>\n",
       "      <th>text</th>\n",
       "    </tr>\n",
       "  </thead>\n",
       "  <tbody>\n",
       "    <tr>\n",
       "      <th>32995</th>\n",
       "      <td>tsn</td>\n",
       "      <td>popo ya dipolateforomo tse ke go tlisa boetele...</td>\n",
       "    </tr>\n",
       "    <tr>\n",
       "      <th>32996</th>\n",
       "      <td>sot</td>\n",
       "      <td>modise mosadi na o ntse o sa utlwe hore thaban...</td>\n",
       "    </tr>\n",
       "    <tr>\n",
       "      <th>32997</th>\n",
       "      <td>eng</td>\n",
       "      <td>closing date for the submission of completed t...</td>\n",
       "    </tr>\n",
       "    <tr>\n",
       "      <th>32998</th>\n",
       "      <td>xho</td>\n",
       "      <td>nawuphina umntu ofunyenwe enetyala phantsi kwa...</td>\n",
       "    </tr>\n",
       "    <tr>\n",
       "      <th>32999</th>\n",
       "      <td>sot</td>\n",
       "      <td>mafapha a mang le ona a lokela ho etsa ditlale...</td>\n",
       "    </tr>\n",
       "  </tbody>\n",
       "</table>\n",
       "</div>"
      ],
      "text/plain": [
       "      lang_id                                               text\n",
       "32995     tsn  popo ya dipolateforomo tse ke go tlisa boetele...\n",
       "32996     sot  modise mosadi na o ntse o sa utlwe hore thaban...\n",
       "32997     eng  closing date for the submission of completed t...\n",
       "32998     xho  nawuphina umntu ofunyenwe enetyala phantsi kwa...\n",
       "32999     sot  mafapha a mang le ona a lokela ho etsa ditlale..."
      ]
     },
     "execution_count": 4,
     "metadata": {},
     "output_type": "execute_result"
    }
   ],
   "source": [
    "df_train.tail()"
   ]
  },
  {
   "cell_type": "code",
   "execution_count": 5,
   "metadata": {
    "colab": {
     "base_uri": "https://localhost:8080/",
     "height": 206
    },
    "executionInfo": {
     "elapsed": 22,
     "status": "ok",
     "timestamp": 1648731193419,
     "user": {
      "displayName": "Kamire",
      "userId": "11293208691524921421"
     },
     "user_tz": -180
    },
    "id": "Ql8QQNg3GNOG",
    "outputId": "604551ce-2da0-4f27-dfdf-12ba4b95164b"
   },
   "outputs": [
    {
     "data": {
      "text/html": [
       "<div>\n",
       "<style scoped>\n",
       "    .dataframe tbody tr th:only-of-type {\n",
       "        vertical-align: middle;\n",
       "    }\n",
       "\n",
       "    .dataframe tbody tr th {\n",
       "        vertical-align: top;\n",
       "    }\n",
       "\n",
       "    .dataframe thead th {\n",
       "        text-align: right;\n",
       "    }\n",
       "</style>\n",
       "<table border=\"1\" class=\"dataframe\">\n",
       "  <thead>\n",
       "    <tr style=\"text-align: right;\">\n",
       "      <th></th>\n",
       "      <th>index</th>\n",
       "      <th>text</th>\n",
       "    </tr>\n",
       "  </thead>\n",
       "  <tbody>\n",
       "    <tr>\n",
       "      <th>0</th>\n",
       "      <td>1</td>\n",
       "      <td>Mmasepala, fa maemo a a kgethegileng a letlele...</td>\n",
       "    </tr>\n",
       "    <tr>\n",
       "      <th>1</th>\n",
       "      <td>2</td>\n",
       "      <td>Uzakwaziswa ngokufaneleko nakungafuneka eminye...</td>\n",
       "    </tr>\n",
       "    <tr>\n",
       "      <th>2</th>\n",
       "      <td>3</td>\n",
       "      <td>Tshivhumbeo tshi fana na ngano dza vhathu.</td>\n",
       "    </tr>\n",
       "    <tr>\n",
       "      <th>3</th>\n",
       "      <td>4</td>\n",
       "      <td>Kube inja nelikati betingevakala kutsi titsini...</td>\n",
       "    </tr>\n",
       "    <tr>\n",
       "      <th>4</th>\n",
       "      <td>5</td>\n",
       "      <td>Winste op buitelandse valuta.</td>\n",
       "    </tr>\n",
       "  </tbody>\n",
       "</table>\n",
       "</div>"
      ],
      "text/plain": [
       "   index                                               text\n",
       "0      1  Mmasepala, fa maemo a a kgethegileng a letlele...\n",
       "1      2  Uzakwaziswa ngokufaneleko nakungafuneka eminye...\n",
       "2      3         Tshivhumbeo tshi fana na ngano dza vhathu.\n",
       "3      4  Kube inja nelikati betingevakala kutsi titsini...\n",
       "4      5                      Winste op buitelandse valuta."
      ]
     },
     "execution_count": 5,
     "metadata": {},
     "output_type": "execute_result"
    }
   ],
   "source": [
    "# Preview Test Data\n",
    "df_test.head()"
   ]
  },
  {
   "cell_type": "markdown",
   "metadata": {
    "id": "5UlsmI4kGZCD"
   },
   "source": [
    "Check the shapes of the train and test dataset"
   ]
  },
  {
   "cell_type": "code",
   "execution_count": 6,
   "metadata": {
    "colab": {
     "base_uri": "https://localhost:8080/"
    },
    "executionInfo": {
     "elapsed": 20,
     "status": "ok",
     "timestamp": 1648731193420,
     "user": {
      "displayName": "Kamire",
      "userId": "11293208691524921421"
     },
     "user_tz": -180
    },
    "id": "qlsAoFmPGcHT",
    "outputId": "b8547a19-df65-4fda-b3a2-3c4eda9c33e6"
   },
   "outputs": [
    {
     "name": "stdout",
     "output_type": "stream",
     "text": [
      "Train data shape:  (33000, 2)\n",
      "Test data shape:  (5682, 2)\n"
     ]
    }
   ],
   "source": [
    "print(\"Train data shape: \", df_train.shape)\n",
    "print(\"Test data shape: \", df_test.shape)"
   ]
  },
  {
   "cell_type": "code",
   "execution_count": 7,
   "metadata": {
    "colab": {
     "base_uri": "https://localhost:8080/"
    },
    "executionInfo": {
     "elapsed": 20,
     "status": "ok",
     "timestamp": 1648731194084,
     "user": {
      "displayName": "Kamire",
      "userId": "11293208691524921421"
     },
     "user_tz": -180
    },
    "id": "4Ixi7BU8IZot",
    "outputId": "d537be85-f201-4c27-b1fe-112aa6727ae7"
   },
   "outputs": [
    {
     "name": "stdout",
     "output_type": "stream",
     "text": [
      "Dataset size: (33000, 2)\n",
      "Columns are: Index(['lang_id', 'text'], dtype='object')\n"
     ]
    }
   ],
   "source": [
    "print('Dataset size:',df_train.shape)\n",
    "print('Columns are:',df_train.columns)\n"
   ]
  },
  {
   "cell_type": "markdown",
   "metadata": {
    "id": "M7uog88uKHj-"
   },
   "source": [
    "Looking at the number of languages and their frequencies in the train dataset."
   ]
  },
  {
   "cell_type": "code",
   "execution_count": 8,
   "metadata": {
    "colab": {
     "base_uri": "https://localhost:8080/"
    },
    "executionInfo": {
     "elapsed": 19,
     "status": "ok",
     "timestamp": 1648731194085,
     "user": {
      "displayName": "Kamire",
      "userId": "11293208691524921421"
     },
     "user_tz": -180
    },
    "id": "rg-eQP2sKDuL",
    "outputId": "1ac2d55d-5aa5-4d23-ee0f-60f178e7eaed"
   },
   "outputs": [
    {
     "data": {
      "text/plain": [
       "xho    3000\n",
       "eng    3000\n",
       "nso    3000\n",
       "ven    3000\n",
       "tsn    3000\n",
       "nbl    3000\n",
       "zul    3000\n",
       "ssw    3000\n",
       "tso    3000\n",
       "sot    3000\n",
       "afr    3000\n",
       "Name: lang_id, dtype: int64"
      ]
     },
     "execution_count": 8,
     "metadata": {},
     "output_type": "execute_result"
    }
   ],
   "source": [
    "df_train['lang_id'].value_counts()"
   ]
  },
  {
   "cell_type": "markdown",
   "metadata": {
    "id": "ce1GGYjQKZdg"
   },
   "source": [
    "The frequency of each of the eleven languages in the dataset is balanced. There are 3000 occurences of each language in the train dataset.\n",
    "It is pertinent to understand in real life it is natural to deal with imbalanced data in most cases. Therefore, the goal shoudld be on reducing imbalance to manageable levels. It will be interesting to assess the performance of the model when dealing with a balanced daa like the train dataset in this project. \n",
    "We can develop a bar chart to confirm the view of how each language occures through the train dataset."
   ]
  },
  {
   "cell_type": "code",
   "execution_count": 9,
   "metadata": {
    "colab": {
     "base_uri": "https://localhost:8080/",
     "height": 279
    },
    "executionInfo": {
     "elapsed": 15,
     "status": "ok",
     "timestamp": 1648731194086,
     "user": {
      "displayName": "Kamire",
      "userId": "11293208691524921421"
     },
     "user_tz": -180
    },
    "id": "ZCTKLDigKTc_",
    "outputId": "ded2ba21-edcd-4234-c462-9fac76a7e41e"
   },
   "outputs": [
    {
     "data": {
      "image/png": "[encoded data removed]",
      "text/plain": [
       "<Figure size 432x288 with 1 Axes>"
      ]
     },
     "metadata": {},
     "output_type": "display_data"
    }
   ],
   "source": [
    "df_train.lang_id.value_counts().plot(kind='bar');"
   ]
  },
  {
   "cell_type": "markdown",
   "metadata": {
    "id": "VM-6BYQcNG_s"
   },
   "source": [
    "## 3. Data Preprocessing <a class=\"anchor\" id=\"Data_Preprocessing\"></a>\n"
   ]
  },
  {
   "cell_type": "markdown",
   "metadata": {
    "id": "fqj9kSvdOBkK"
   },
   "source": [
    "In preparation for modelling, it is important to ensure the dataset is turned into a formate that makes it easy for the model to make sense of the data. Text cleaning is necesary because it ensures that the text data is free of things like punctuation, numerical values and other signs that do not have a direct impact on the performance of the classification model. They are considered noise, which can ultimately affect the accuracy of the model. The key steps in text cleaning include:\n",
    "* Removal of special characters\n",
    "* Removing punctuation\n",
    "* Lowering the caps\n",
    "\n",
    "All these steps are carried to make it easy for machine learning models to make sense of the data during analysis. \n"
   ]
  },
  {
   "cell_type": "code",
   "execution_count": 10,
   "metadata": {
    "executionInfo": {
     "elapsed": 14,
     "status": "ok",
     "timestamp": 1648731194087,
     "user": {
      "displayName": "Kamire",
      "userId": "11293208691524921421"
     },
     "user_tz": -180
    },
    "id": "azX4QnOmN_t2"
   },
   "outputs": [],
   "source": [
    "# Create function to clean the data\n",
    "\n",
    "def text_cleaning(df, col):\n",
    "  \"\"\" Takes in a string value, returns string devoid of url, punctuation and caps lower\"\"\"\n",
    "\n",
    "  # Handling URLs\n",
    "  print ('Removing URLs...')\n",
    "  pattern_url = r'http[s]?://(?:[A-Za-z]|[0-9]|[$-_@.&+]|[!*\\(\\),]|(?:%[0-9A-Fa-f][0-9A-Fa-f]))+'\n",
    "  subs_url = r'url-web'\n",
    "  df[col] = df[col].replace(to_replace = pattern_url, value = subs_url, regex = True)\n",
    "\n",
    "  # Make lower case\n",
    "  print ('Lowering case...')\n",
    "  df[col] = df[col].str.lower()\n",
    "\n",
    "  # Dealing with Punctuation\n",
    "  print('Removing punctuation...')\n",
    "  def remove_punctuation_numbers(post):\n",
    "    punc_numbers = string.punctuation + '0123456789'\n",
    "    return ''.join([l for l in post if l not in punc_numbers])\n",
    "  df[col] = df[col].apply(remove_punctuation_numbers)\n",
    "  \n",
    "  return df\n"
   ]
  },
  {
   "cell_type": "code",
   "execution_count": 11,
   "metadata": {
    "executionInfo": {
     "elapsed": 14,
     "status": "ok",
     "timestamp": 1648731194088,
     "user": {
      "displayName": "Kamire",
      "userId": "11293208691524921421"
     },
     "user_tz": -180
    },
    "id": "lNVcEZQeLtlX"
   },
   "outputs": [],
   "source": [
    "# Create a copy of train and test data \n",
    "train_data = df_train.copy()\n",
    "test_data = df_test.copy()"
   ]
  },
  {
   "cell_type": "code",
   "execution_count": 12,
   "metadata": {
    "colab": {
     "base_uri": "https://localhost:8080/"
    },
    "executionInfo": {
     "elapsed": 2675,
     "status": "ok",
     "timestamp": 1648731196749,
     "user": {
      "displayName": "Kamire",
      "userId": "11293208691524921421"
     },
     "user_tz": -180
    },
    "id": "MkxaUsoF1H-z",
    "outputId": "a6d5de99-4162-4500-c42e-4bc3d81213bb"
   },
   "outputs": [
    {
     "name": "stdout",
     "output_type": "stream",
     "text": [
      "Removing URLs...\n",
      "Lowering case...\n",
      "Removing punctuation...\n",
      "Removing URLs...\n",
      "Lowering case...\n",
      "Removing punctuation...\n"
     ]
    }
   ],
   "source": [
    "# Apply Text Preprocessing\n",
    "train_data = text_cleaning(train_data, 'text')\n",
    "\n",
    "test_data = text_cleaning(test_data, 'text')"
   ]
  },
  {
   "cell_type": "code",
   "execution_count": 13,
   "metadata": {
    "colab": {
     "base_uri": "https://localhost:8080/",
     "height": 206
    },
    "executionInfo": {
     "elapsed": 27,
     "status": "ok",
     "timestamp": 1648731196752,
     "user": {
      "displayName": "Kamire",
      "userId": "11293208691524921421"
     },
     "user_tz": -180
    },
    "id": "FOknzn4R1qkx",
    "outputId": "1ce19f47-87f9-4aac-f3c9-cef032afc7fb"
   },
   "outputs": [
    {
     "data": {
      "text/html": [
       "<div>\n",
       "<style scoped>\n",
       "    .dataframe tbody tr th:only-of-type {\n",
       "        vertical-align: middle;\n",
       "    }\n",
       "\n",
       "    .dataframe tbody tr th {\n",
       "        vertical-align: top;\n",
       "    }\n",
       "\n",
       "    .dataframe thead th {\n",
       "        text-align: right;\n",
       "    }\n",
       "</style>\n",
       "<table border=\"1\" class=\"dataframe\">\n",
       "  <thead>\n",
       "    <tr style=\"text-align: right;\">\n",
       "      <th></th>\n",
       "      <th>lang_id</th>\n",
       "      <th>text</th>\n",
       "    </tr>\n",
       "  </thead>\n",
       "  <tbody>\n",
       "    <tr>\n",
       "      <th>0</th>\n",
       "      <td>xho</td>\n",
       "      <td>umgaqosiseko wenza amalungiselelo kumaziko axh...</td>\n",
       "    </tr>\n",
       "    <tr>\n",
       "      <th>1</th>\n",
       "      <td>xho</td>\n",
       "      <td>idha iya kuba nobulumko bokubeka umsebenzi nap...</td>\n",
       "    </tr>\n",
       "    <tr>\n",
       "      <th>2</th>\n",
       "      <td>eng</td>\n",
       "      <td>the province of kwazulunatal department of tra...</td>\n",
       "    </tr>\n",
       "    <tr>\n",
       "      <th>3</th>\n",
       "      <td>nso</td>\n",
       "      <td>o netefatša gore o ba file dilo ka moka tše le...</td>\n",
       "    </tr>\n",
       "    <tr>\n",
       "      <th>4</th>\n",
       "      <td>ven</td>\n",
       "      <td>khomishini ya ndinganyiso ya mbeu yo ewa maana...</td>\n",
       "    </tr>\n",
       "  </tbody>\n",
       "</table>\n",
       "</div>"
      ],
      "text/plain": [
       "  lang_id                                               text\n",
       "0     xho  umgaqosiseko wenza amalungiselelo kumaziko axh...\n",
       "1     xho  idha iya kuba nobulumko bokubeka umsebenzi nap...\n",
       "2     eng  the province of kwazulunatal department of tra...\n",
       "3     nso  o netefatša gore o ba file dilo ka moka tše le...\n",
       "4     ven  khomishini ya ndinganyiso ya mbeu yo ewa maana..."
      ]
     },
     "execution_count": 13,
     "metadata": {},
     "output_type": "execute_result"
    }
   ],
   "source": [
    "# Preview Cleaned Train Data\n",
    "train_data.head()"
   ]
  },
  {
   "cell_type": "code",
   "execution_count": 14,
   "metadata": {
    "colab": {
     "base_uri": "https://localhost:8080/",
     "height": 206
    },
    "executionInfo": {
     "elapsed": 26,
     "status": "ok",
     "timestamp": 1648731196754,
     "user": {
      "displayName": "Kamire",
      "userId": "11293208691524921421"
     },
     "user_tz": -180
    },
    "id": "HtSFmVtw1wWQ",
    "outputId": "87c37b01-fa8a-4052-b128-f608d4fd4b19"
   },
   "outputs": [
    {
     "data": {
      "text/html": [
       "<div>\n",
       "<style scoped>\n",
       "    .dataframe tbody tr th:only-of-type {\n",
       "        vertical-align: middle;\n",
       "    }\n",
       "\n",
       "    .dataframe tbody tr th {\n",
       "        vertical-align: top;\n",
       "    }\n",
       "\n",
       "    .dataframe thead th {\n",
       "        text-align: right;\n",
       "    }\n",
       "</style>\n",
       "<table border=\"1\" class=\"dataframe\">\n",
       "  <thead>\n",
       "    <tr style=\"text-align: right;\">\n",
       "      <th></th>\n",
       "      <th>index</th>\n",
       "      <th>text</th>\n",
       "    </tr>\n",
       "  </thead>\n",
       "  <tbody>\n",
       "    <tr>\n",
       "      <th>0</th>\n",
       "      <td>1</td>\n",
       "      <td>mmasepala fa maemo a a kgethegileng a letlelel...</td>\n",
       "    </tr>\n",
       "    <tr>\n",
       "      <th>1</th>\n",
       "      <td>2</td>\n",
       "      <td>uzakwaziswa ngokufaneleko nakungafuneka eminye...</td>\n",
       "    </tr>\n",
       "    <tr>\n",
       "      <th>2</th>\n",
       "      <td>3</td>\n",
       "      <td>tshivhumbeo tshi fana na ngano dza vhathu</td>\n",
       "    </tr>\n",
       "    <tr>\n",
       "      <th>3</th>\n",
       "      <td>4</td>\n",
       "      <td>kube inja nelikati betingevakala kutsi titsini...</td>\n",
       "    </tr>\n",
       "    <tr>\n",
       "      <th>4</th>\n",
       "      <td>5</td>\n",
       "      <td>winste op buitelandse valuta</td>\n",
       "    </tr>\n",
       "  </tbody>\n",
       "</table>\n",
       "</div>"
      ],
      "text/plain": [
       "   index                                               text\n",
       "0      1  mmasepala fa maemo a a kgethegileng a letlelel...\n",
       "1      2  uzakwaziswa ngokufaneleko nakungafuneka eminye...\n",
       "2      3          tshivhumbeo tshi fana na ngano dza vhathu\n",
       "3      4  kube inja nelikati betingevakala kutsi titsini...\n",
       "4      5                       winste op buitelandse valuta"
      ]
     },
     "execution_count": 14,
     "metadata": {},
     "output_type": "execute_result"
    }
   ],
   "source": [
    "# Preview Cleaned Test Data\n",
    "test_data.head()"
   ]
  },
  {
   "cell_type": "markdown",
   "metadata": {
    "id": "CjSFFfox6MjD"
   },
   "source": [
    "## 4. Feature Engineering <a class=\"anchor\" id=\"Feature_Engineering\"></a>"
   ]
  },
  {
   "cell_type": "markdown",
   "metadata": {
    "id": "3B82cRcS2WNb"
   },
   "source": [
    "### 4.1 Tfid Vectorizer <a class=\"anchor\" id=\"tfidvectorizer\"></a>"
   ]
  },
  {
   "cell_type": "markdown",
   "metadata": {
    "id": "pHF-rvrN2dgz"
   },
   "source": [
    "[Term Frequency Inverse Document Frequency(TF-IDF)](https://towardsdatascience.com/tf-term-frequency-idf-inverse-document-frequency-from-scratch-in-python-6c2b61b78558) is an algorithm that the frequency of word in a document and its rareness across the whole corpus of documents. Term Frequency(tf) is focused on how many times a word appears in a particular document Sklearn tf checks the number of times a term 'x' occurs in a document. \n",
    "Inverse Document Frequency(idf) measures how rare or common a term is the entire corpus of documents. A word that is frequent in all the documents analyzed has a normalisation approaching zero or 1 if it is not the case. Sklearn uses the formula:\n",
    "* idf(t) = log e [ (1+n) / ( 1 + df(t) ) ] + 1 (default i:e smooth_idf = True)\n",
    "\n",
    "    and\n",
    "\n",
    "* idf(t) = log e [ n / df(t) ] + 1 (when smooth_idf = False)\n",
    "\n",
    "The Term Frequency-Inverse Document Frequency(tf-idf) of a document is the product of tf and idf. A higher value indicates the term is more relevant in the document. \n"
   ]
  },
  {
   "cell_type": "code",
   "execution_count": 15,
   "metadata": {
    "executionInfo": {
     "elapsed": 28,
     "status": "ok",
     "timestamp": 1648731196759,
     "user": {
      "displayName": "Kamire",
      "userId": "11293208691524921421"
     },
     "user_tz": -180
    },
    "id": "_f70akj62cRB"
   },
   "outputs": [],
   "source": [
    "vectorizer = TfidfVectorizer(max_features=1500, max_df=0.8)"
   ]
  },
  {
   "cell_type": "markdown",
   "metadata": {
    "id": "YCBaoXNK_-Ls"
   },
   "source": [
    "The next step is to fit all the words on the vectorizer. "
   ]
  },
  {
   "cell_type": "code",
   "execution_count": 16,
   "metadata": {
    "id": "mfAxH8Pe_iQO"
   },
   "outputs": [
    {
     "name": "stdout",
     "output_type": "stream",
     "text": [
      "Training Data:  (33000, 1500)\n",
      "Test Data:  (5682, 1500)\n"
     ]
    }
   ],
   "source": [
    "# Vectorize Train Data\n",
    "train_data_vec = vectorizer.fit_transform(train_data['text']).toarray()\n",
    "\n",
    "# Create dataframe for training data\n",
    "train_new = pd.DataFrame(train_data_vec, columns=vectorizer.get_feature_names())\n",
    "\n",
    "# Print shape of training dataframe\n",
    "print('Training Data: ', train_new.shape)\n",
    "\n",
    "# Vectorize test data\n",
    "test_data_vec = vectorizer.transform(test_data['text']).toarray()\n",
    "\n",
    "# New Dataframe for test data\n",
    "test_new = pd.DataFrame(test_data_vec, columns=vectorizer.get_feature_names())\n",
    "\n",
    "# Print the shape of test data\n",
    "print('Test Data: ', test_new.shape)\n"
   ]
  },
  {
   "cell_type": "markdown",
   "metadata": {},
   "source": [
    "### 4.2. Count Vectorizer  <a class=\"anchor\" id=\"countvectorizer\"></a>"
   ]
  },
  {
   "cell_type": "markdown",
   "metadata": {},
   "source": [
    "Count Vectorizer converts words into numbers that show the frequency of the word in the document. The major difference between Count Vectorizer and TFIDVectorizer is that the former focuses on the count frequency of the word in the document while TFID goes ahead to consider how important a word is in the document. "
   ]
  },
  {
   "cell_type": "code",
   "execution_count": 17,
   "metadata": {},
   "outputs": [],
   "source": [
    "vect = CountVectorizer(max_df=0.8)"
   ]
  },
  {
   "cell_type": "markdown",
   "metadata": {},
   "source": [
    "The next step is to prepare some train and test data vectorized using Count Vectorizer."
   ]
  },
  {
   "cell_type": "code",
   "execution_count": 18,
   "metadata": {},
   "outputs": [
    {
     "name": "stdout",
     "output_type": "stream",
     "text": [
      "Training Data:  (33000, 1500)\n",
      "Test Data:  (5682, 1500)\n"
     ]
    }
   ],
   "source": [
    "# Vectorize Train Data\n",
    "count_train = vectorizer.fit_transform(train_data['text']).toarray()\n",
    "\n",
    "# Create dataframe for training data\n",
    "count_train = pd.DataFrame(train_data_vec, columns=vectorizer.get_feature_names())\n",
    "\n",
    "# Print shape of training dataframe\n",
    "print('Training Data: ', train_new.shape)\n",
    "\n",
    "# Vectorize test data\n",
    "count_test = vectorizer.transform(test_data['text']).toarray()\n",
    "\n",
    "# New Dataframe for test data\n",
    "count_test = pd.DataFrame(test_data_vec, columns=vectorizer.get_feature_names())\n",
    "\n",
    "# Print the shape of test data\n",
    "print('Test Data: ', test_new.shape)"
   ]
  },
  {
   "cell_type": "markdown",
   "metadata": {},
   "source": [
    "### 4.3. Prepare Data for Training <a class=\"anchor\" id=\"preparedatafortraining\"></a>"
   ]
  },
  {
   "cell_type": "markdown",
   "metadata": {},
   "source": [
    "In this section, we define features(X) and target(Y) for training. Label Encoding is used to transform string language identities into numerical values for the model to understand."
   ]
  },
  {
   "cell_type": "code",
   "execution_count": 19,
   "metadata": {},
   "outputs": [],
   "source": [
    "X = train_new\n",
    "y = train_data['lang_id']"
   ]
  },
  {
   "cell_type": "markdown",
   "metadata": {},
   "source": [
    "Apply label encoding in the next cell to convert them into numerical values. "
   ]
  },
  {
   "cell_type": "code",
   "execution_count": 20,
   "metadata": {},
   "outputs": [],
   "source": [
    "label_encoder = LabelEncoder() \n",
    "y_label = label_encoder.fit_transform(y)"
   ]
  },
  {
   "cell_type": "markdown",
   "metadata": {},
   "source": [
    "Splitting Data into train and test for data created using TfidVectorizer"
   ]
  },
  {
   "cell_type": "code",
   "execution_count": 21,
   "metadata": {},
   "outputs": [],
   "source": [
    "X_train, X_test, y_train, y_test = train_test_split(X, y_label, test_size=0.1, random_state=0)"
   ]
  },
  {
   "cell_type": "markdown",
   "metadata": {},
   "source": [
    "Prepare test and train data vectorized using Count Vectorizer for comparative purposes. The target value is the same for both vectorizing methods from scikit-learn library."
   ]
  },
  {
   "cell_type": "code",
   "execution_count": 22,
   "metadata": {},
   "outputs": [],
   "source": [
    "X1 = count_train"
   ]
  },
  {
   "cell_type": "code",
   "execution_count": 23,
   "metadata": {},
   "outputs": [],
   "source": [
    "X_train1, X_test1, y_train1, y_test1 = train_test_split(X1, y_label, test_size=0.1, random_state=0)"
   ]
  },
  {
   "cell_type": "code",
   "execution_count": 24,
   "metadata": {},
   "outputs": [
    {
     "data": {
      "text/html": [
       "<div>\n",
       "<style scoped>\n",
       "    .dataframe tbody tr th:only-of-type {\n",
       "        vertical-align: middle;\n",
       "    }\n",
       "\n",
       "    .dataframe tbody tr th {\n",
       "        vertical-align: top;\n",
       "    }\n",
       "\n",
       "    .dataframe thead th {\n",
       "        text-align: right;\n",
       "    }\n",
       "</style>\n",
       "<table border=\"1\" class=\"dataframe\">\n",
       "  <thead>\n",
       "    <tr style=\"text-align: right;\">\n",
       "      <th></th>\n",
       "      <th>aan</th>\n",
       "      <th>aansoek</th>\n",
       "      <th>abantu</th>\n",
       "      <th>abantwana</th>\n",
       "      <th>abanye</th>\n",
       "      <th>abasebenzi</th>\n",
       "      <th>abe</th>\n",
       "      <th>abo</th>\n",
       "      <th>act</th>\n",
       "      <th>aforika</th>\n",
       "      <th>...</th>\n",
       "      <th>ḓa</th>\n",
       "      <th>ḓi</th>\n",
       "      <th>ḓo</th>\n",
       "      <th>ḓuvha</th>\n",
       "      <th>ḽa</th>\n",
       "      <th>ḽi</th>\n",
       "      <th>ḽo</th>\n",
       "      <th>ṅwaha</th>\n",
       "      <th>ṱhanziela</th>\n",
       "      <th>ṱo</th>\n",
       "    </tr>\n",
       "  </thead>\n",
       "  <tbody>\n",
       "    <tr>\n",
       "      <th>0</th>\n",
       "      <td>0.0</td>\n",
       "      <td>0.0</td>\n",
       "      <td>0.0</td>\n",
       "      <td>0.0</td>\n",
       "      <td>0.0</td>\n",
       "      <td>0.0</td>\n",
       "      <td>0.0</td>\n",
       "      <td>0.0</td>\n",
       "      <td>0.0</td>\n",
       "      <td>0.0</td>\n",
       "      <td>...</td>\n",
       "      <td>0.0</td>\n",
       "      <td>0.0</td>\n",
       "      <td>0.0</td>\n",
       "      <td>0.0</td>\n",
       "      <td>0.0</td>\n",
       "      <td>0.0</td>\n",
       "      <td>0.0</td>\n",
       "      <td>0.0</td>\n",
       "      <td>0.0</td>\n",
       "      <td>0.0</td>\n",
       "    </tr>\n",
       "    <tr>\n",
       "      <th>1</th>\n",
       "      <td>0.0</td>\n",
       "      <td>0.0</td>\n",
       "      <td>0.0</td>\n",
       "      <td>0.0</td>\n",
       "      <td>0.0</td>\n",
       "      <td>0.0</td>\n",
       "      <td>0.0</td>\n",
       "      <td>0.0</td>\n",
       "      <td>0.0</td>\n",
       "      <td>0.0</td>\n",
       "      <td>...</td>\n",
       "      <td>0.0</td>\n",
       "      <td>0.0</td>\n",
       "      <td>0.0</td>\n",
       "      <td>0.0</td>\n",
       "      <td>0.0</td>\n",
       "      <td>0.0</td>\n",
       "      <td>0.0</td>\n",
       "      <td>0.0</td>\n",
       "      <td>0.0</td>\n",
       "      <td>0.0</td>\n",
       "    </tr>\n",
       "    <tr>\n",
       "      <th>2</th>\n",
       "      <td>0.0</td>\n",
       "      <td>0.0</td>\n",
       "      <td>0.0</td>\n",
       "      <td>0.0</td>\n",
       "      <td>0.0</td>\n",
       "      <td>0.0</td>\n",
       "      <td>0.0</td>\n",
       "      <td>0.0</td>\n",
       "      <td>0.0</td>\n",
       "      <td>0.0</td>\n",
       "      <td>...</td>\n",
       "      <td>0.0</td>\n",
       "      <td>0.0</td>\n",
       "      <td>0.0</td>\n",
       "      <td>0.0</td>\n",
       "      <td>0.0</td>\n",
       "      <td>0.0</td>\n",
       "      <td>0.0</td>\n",
       "      <td>0.0</td>\n",
       "      <td>0.0</td>\n",
       "      <td>0.0</td>\n",
       "    </tr>\n",
       "    <tr>\n",
       "      <th>3</th>\n",
       "      <td>0.0</td>\n",
       "      <td>0.0</td>\n",
       "      <td>0.0</td>\n",
       "      <td>0.0</td>\n",
       "      <td>0.0</td>\n",
       "      <td>0.0</td>\n",
       "      <td>0.0</td>\n",
       "      <td>0.0</td>\n",
       "      <td>0.0</td>\n",
       "      <td>0.0</td>\n",
       "      <td>...</td>\n",
       "      <td>0.0</td>\n",
       "      <td>0.0</td>\n",
       "      <td>0.0</td>\n",
       "      <td>0.0</td>\n",
       "      <td>0.0</td>\n",
       "      <td>0.0</td>\n",
       "      <td>0.0</td>\n",
       "      <td>0.0</td>\n",
       "      <td>0.0</td>\n",
       "      <td>0.0</td>\n",
       "    </tr>\n",
       "    <tr>\n",
       "      <th>4</th>\n",
       "      <td>0.0</td>\n",
       "      <td>0.0</td>\n",
       "      <td>0.0</td>\n",
       "      <td>0.0</td>\n",
       "      <td>0.0</td>\n",
       "      <td>0.0</td>\n",
       "      <td>0.0</td>\n",
       "      <td>0.0</td>\n",
       "      <td>0.0</td>\n",
       "      <td>0.0</td>\n",
       "      <td>...</td>\n",
       "      <td>0.0</td>\n",
       "      <td>0.0</td>\n",
       "      <td>0.0</td>\n",
       "      <td>0.0</td>\n",
       "      <td>0.0</td>\n",
       "      <td>0.0</td>\n",
       "      <td>0.0</td>\n",
       "      <td>0.0</td>\n",
       "      <td>0.0</td>\n",
       "      <td>0.0</td>\n",
       "    </tr>\n",
       "  </tbody>\n",
       "</table>\n",
       "<p>5 rows × 1500 columns</p>\n",
       "</div>"
      ],
      "text/plain": [
       "   aan  aansoek  abantu  abantwana  abanye  abasebenzi  abe  abo  act  \\\n",
       "0  0.0      0.0     0.0        0.0     0.0         0.0  0.0  0.0  0.0   \n",
       "1  0.0      0.0     0.0        0.0     0.0         0.0  0.0  0.0  0.0   \n",
       "2  0.0      0.0     0.0        0.0     0.0         0.0  0.0  0.0  0.0   \n",
       "3  0.0      0.0     0.0        0.0     0.0         0.0  0.0  0.0  0.0   \n",
       "4  0.0      0.0     0.0        0.0     0.0         0.0  0.0  0.0  0.0   \n",
       "\n",
       "   aforika  ...   ḓa   ḓi   ḓo  ḓuvha   ḽa   ḽi   ḽo  ṅwaha  ṱhanziela   ṱo  \n",
       "0      0.0  ...  0.0  0.0  0.0    0.0  0.0  0.0  0.0    0.0        0.0  0.0  \n",
       "1      0.0  ...  0.0  0.0  0.0    0.0  0.0  0.0  0.0    0.0        0.0  0.0  \n",
       "2      0.0  ...  0.0  0.0  0.0    0.0  0.0  0.0  0.0    0.0        0.0  0.0  \n",
       "3      0.0  ...  0.0  0.0  0.0    0.0  0.0  0.0  0.0    0.0        0.0  0.0  \n",
       "4      0.0  ...  0.0  0.0  0.0    0.0  0.0  0.0  0.0    0.0        0.0  0.0  \n",
       "\n",
       "[5 rows x 1500 columns]"
      ]
     },
     "execution_count": 24,
     "metadata": {},
     "output_type": "execute_result"
    }
   ],
   "source": [
    "count_test.head()"
   ]
  },
  {
   "cell_type": "markdown",
   "metadata": {},
   "source": [
    "## 5. Modelling <a class=\"anchor\" id=\"Modelling\"></a>"
   ]
  },
  {
   "cell_type": "markdown",
   "metadata": {},
   "source": [
    "The following models will be tried in this section with the hope selecting the best performing model:\n",
    "* Logistic Regression\n",
    "* Passive Aggressive Classifier\n",
    "* XGBoost Classifier\n",
    "* MultiNomialNB\n",
    "* GaussianNB\n",
    "* BernoulliNB"
   ]
  },
  {
   "cell_type": "markdown",
   "metadata": {},
   "source": [
    "### 5.1. Build Classification Models <a class=\"anchor\" id=\"buildclassificationmodels\"></a>"
   ]
  },
  {
   "cell_type": "markdown",
   "metadata": {},
   "source": [
    "The modelling process is time intensive and demands a lot of computing power. In this section, I will use a limited number of features to assess the performance of pre-selected models before selecting one model for hyperparameter tuning. "
   ]
  },
  {
   "cell_type": "code",
   "execution_count": 25,
   "metadata": {},
   "outputs": [],
   "source": [
    "names = ['Logistic Regression', 'MultiNomial', \n",
    "         'Passive', 'Gaussian',  'Bernoulli']"
   ]
  },
  {
   "cell_type": "code",
   "execution_count": 26,
   "metadata": {},
   "outputs": [],
   "source": [
    "classifiers = [\n",
    "    LogisticRegression(), \n",
    "    MultinomialNB(),\n",
    "    PassiveAggressiveClassifier(),\n",
    "    GaussianNB(),\n",
    "    BernoulliNB()\n",
    "]"
   ]
  },
  {
   "cell_type": "code",
   "execution_count": 27,
   "metadata": {},
   "outputs": [
    {
     "name": "stdout",
     "output_type": "stream",
     "text": [
      "Fitting Logistic Regression model...\n",
      "... predicting\n",
      "... scoring\n",
      "Fitting MultiNomial model...\n",
      "... predicting\n",
      "... scoring\n",
      "Fitting Passive model...\n",
      "... predicting\n",
      "... scoring\n",
      "Fitting Gaussian model...\n",
      "... predicting\n",
      "... scoring\n",
      "Fitting Bernoulli model...\n",
      "... predicting\n",
      "... scoring\n",
      "... All done!\n"
     ]
    }
   ],
   "source": [
    "results = []\n",
    "\n",
    "models = {}\n",
    "confusion = {}\n",
    "class_report = {}\n",
    "\n",
    "\n",
    "for name, clf in zip(names, classifiers):    \n",
    "    print ('Fitting {:s} model...'.format(name))\n",
    "    run_time = %timeit -q -o clf.fit(X_train, y_train)\n",
    "    \n",
    "    print ('... predicting')\n",
    "    y_pred = clf.predict(X_train)   \n",
    "    y_pred_test = clf.predict(X_test)\n",
    "    \n",
    "    print ('... scoring')\n",
    "    accuracy  = metrics.accuracy_score(y_train, y_pred)\n",
    "    precision = metrics.precision_score(y_train, y_pred, average='macro')\n",
    "    recall    = metrics.recall_score(y_train, y_pred, average='macro')\n",
    "    \n",
    "    f1        = metrics.f1_score(y_train, y_pred, average='macro')    \n",
    "    f1_test   = metrics.f1_score(y_test, y_pred_test, average='macro')    \n",
    "    \n",
    "    # Save the results to dictionaries\n",
    "    models[name] = clf    \n",
    "    confusion[name] = metrics.confusion_matrix(y_train, y_pred)\n",
    "    class_report[name] = metrics.classification_report(y_train, y_pred)\n",
    "    \n",
    "    results.append([name, accuracy, precision, recall, f1, f1_test, run_time.best])\n",
    "\n",
    "    \n",
    "results = pd.DataFrame(results, columns=['Classifier', 'Accuracy', 'Precision', 'Recall', 'F1 Train', \n",
    "                                         'F1 Test', 'Train Time'])\n",
    "results.set_index('Classifier', inplace= True)\n",
    "\n",
    "print ('... All done!')"
   ]
  },
  {
   "cell_type": "code",
   "execution_count": 28,
   "metadata": {},
   "outputs": [
    {
     "data": {
      "text/html": [
       "<div>\n",
       "<style scoped>\n",
       "    .dataframe tbody tr th:only-of-type {\n",
       "        vertical-align: middle;\n",
       "    }\n",
       "\n",
       "    .dataframe tbody tr th {\n",
       "        vertical-align: top;\n",
       "    }\n",
       "\n",
       "    .dataframe thead th {\n",
       "        text-align: right;\n",
       "    }\n",
       "</style>\n",
       "<table border=\"1\" class=\"dataframe\">\n",
       "  <thead>\n",
       "    <tr style=\"text-align: right;\">\n",
       "      <th></th>\n",
       "      <th>Accuracy</th>\n",
       "      <th>Precision</th>\n",
       "      <th>Recall</th>\n",
       "      <th>F1 Train</th>\n",
       "      <th>F1 Test</th>\n",
       "      <th>Train Time</th>\n",
       "    </tr>\n",
       "    <tr>\n",
       "      <th>Classifier</th>\n",
       "      <th></th>\n",
       "      <th></th>\n",
       "      <th></th>\n",
       "      <th></th>\n",
       "      <th></th>\n",
       "      <th></th>\n",
       "    </tr>\n",
       "  </thead>\n",
       "  <tbody>\n",
       "    <tr>\n",
       "      <th>Passive</th>\n",
       "      <td>0.984747</td>\n",
       "      <td>0.984947</td>\n",
       "      <td>0.984680</td>\n",
       "      <td>0.984636</td>\n",
       "      <td>0.977280</td>\n",
       "      <td>11.965616</td>\n",
       "    </tr>\n",
       "    <tr>\n",
       "      <th>Logistic Regression</th>\n",
       "      <td>0.984074</td>\n",
       "      <td>0.983993</td>\n",
       "      <td>0.984004</td>\n",
       "      <td>0.983986</td>\n",
       "      <td>0.982695</td>\n",
       "      <td>31.022240</td>\n",
       "    </tr>\n",
       "    <tr>\n",
       "      <th>Bernoulli</th>\n",
       "      <td>0.981852</td>\n",
       "      <td>0.981868</td>\n",
       "      <td>0.981775</td>\n",
       "      <td>0.981749</td>\n",
       "      <td>0.984439</td>\n",
       "      <td>0.592999</td>\n",
       "    </tr>\n",
       "    <tr>\n",
       "      <th>MultiNomial</th>\n",
       "      <td>0.979461</td>\n",
       "      <td>0.979377</td>\n",
       "      <td>0.979366</td>\n",
       "      <td>0.979327</td>\n",
       "      <td>0.981940</td>\n",
       "      <td>0.208341</td>\n",
       "    </tr>\n",
       "    <tr>\n",
       "      <th>Gaussian</th>\n",
       "      <td>0.964276</td>\n",
       "      <td>0.966294</td>\n",
       "      <td>0.964121</td>\n",
       "      <td>0.963036</td>\n",
       "      <td>0.962900</td>\n",
       "      <td>0.832703</td>\n",
       "    </tr>\n",
       "  </tbody>\n",
       "</table>\n",
       "</div>"
      ],
      "text/plain": [
       "                     Accuracy  Precision    Recall  F1 Train   F1 Test  \\\n",
       "Classifier                                                               \n",
       "Passive              0.984747   0.984947  0.984680  0.984636  0.977280   \n",
       "Logistic Regression  0.984074   0.983993  0.984004  0.983986  0.982695   \n",
       "Bernoulli            0.981852   0.981868  0.981775  0.981749  0.984439   \n",
       "MultiNomial          0.979461   0.979377  0.979366  0.979327  0.981940   \n",
       "Gaussian             0.964276   0.966294  0.964121  0.963036  0.962900   \n",
       "\n",
       "                     Train Time  \n",
       "Classifier                       \n",
       "Passive               11.965616  \n",
       "Logistic Regression   31.022240  \n",
       "Bernoulli              0.592999  \n",
       "MultiNomial            0.208341  \n",
       "Gaussian               0.832703  "
      ]
     },
     "execution_count": 28,
     "metadata": {},
     "output_type": "execute_result"
    }
   ],
   "source": [
    "results.sort_values('F1 Train', ascending=False)"
   ]
  },
  {
   "cell_type": "code",
   "execution_count": 29,
   "metadata": {},
   "outputs": [
    {
     "data": {
      "text/plain": [
       "<AxesSubplot:xlabel='Classifier'>"
      ]
     },
     "execution_count": 29,
     "metadata": {},
     "output_type": "execute_result"
    },
    {
     "data": {
      "image/png": "[encoded data removed]",
      "text/plain": [
       "<Figure size 720x360 with 2 Axes>"
      ]
     },
     "metadata": {},
     "output_type": "display_data"
    }
   ],
   "source": [
    "fig, ax = plt.subplots(1, 2, figsize=(10, 5))\n",
    "results.sort_values('F1 Train', ascending=False, inplace=True)\n",
    "results.plot(y=['F1 Test'], kind='bar', ax=ax[0], xlim=[0,1.1], ylim=[0.85,0.92])\n",
    "results.plot(y='Train Time', kind='bar', ax=ax[1])"
   ]
  },
  {
   "cell_type": "markdown",
   "metadata": {},
   "source": [
    "The accuracy of all the five models is above 0.95, which is impressive. The analysis for was done using vectorized data with 1500 features. The best performing model is Passive Aggressive with a score of 0.98. I took time to delve deeper into all the models tested because of the high accuracy values during the test. The key difference among the models tested lies in the time it takes to train the model. \n",
    "\n",
    "Logistic Regression registered the highest time followed by Passive Aggressive Classifier. The low running times shown by Naive Bayes algorithms can be attributed to the simplicity in the way they deal with classification problems. The 'naive' assumption of independence among variables given the class one variable is determined means less time is spend on finding the smooth curves separating different classes. "
   ]
  },
  {
   "cell_type": "markdown",
   "metadata": {},
   "source": [
    "### 5.2. Logistic Regression <a class=\"anchor\" id=\"logisticregression\"></a>"
   ]
  },
  {
   "cell_type": "markdown",
   "metadata": {},
   "source": [
    "Logistic Regression is a the process of  determining the probability of an outcome given an input. In this instance, I utilised the Logistic Regression algorithm from Sklearn Linear models. In machine learning, logisic regression algorithm is used in modelling the classification of categorical variables. It is applicable in text analysis that requires the determination of different categories of data based on language, which explains why it is selected for this task. The model is fitted and predicted on the validation data to check accuracy levels. "
   ]
  },
  {
   "cell_type": "code",
   "execution_count": 26,
   "metadata": {},
   "outputs": [
    {
     "name": "stdout",
     "output_type": "stream",
     "text": [
      "              precision    recall  f1-score   support\n",
      "\n",
      "           0       1.00      1.00      1.00       300\n",
      "           1       0.99      1.00      1.00       272\n",
      "           2       0.98      0.98      0.98       312\n",
      "           3       1.00      1.00      1.00       277\n",
      "           4       1.00      1.00      1.00       299\n",
      "           5       0.99      0.99      0.99       320\n",
      "           6       1.00      1.00      1.00       295\n",
      "           7       1.00      1.00      1.00       299\n",
      "           8       1.00      1.00      1.00       306\n",
      "           9       0.98      0.97      0.98       308\n",
      "          10       0.95      0.96      0.96       312\n",
      "\n",
      "    accuracy                           0.99      3300\n",
      "   macro avg       0.99      0.99      0.99      3300\n",
      "weighted avg       0.99      0.99      0.99      3300\n",
      "\n"
     ]
    }
   ],
   "source": [
    "log_reg = LogisticRegression()\n",
    "log_reg.fit(X_train, y_train)\n",
    "log_pred = log_reg.predict(X_test)\n",
    "print(classification_report(y_test, log_pred))"
   ]
  },
  {
   "cell_type": "markdown",
   "metadata": {},
   "source": [
    "### 5.3. Passive Aggressive Classifier <a class=\"anchor\" id=\"logisticregression\"></a>"
   ]
  },
  {
   "cell_type": "markdown",
   "metadata": {},
   "source": [
    "The Passive Aggressive Classifier algorithm is known for its applications in online systems. The algorith reacts passively to correct classification and aggressively towards misclassification, which explains the name Passive Aggressive.  The suitability of the algorithm is derived from the tests performed above and level of performance shown when dealing with 1500 features in the train and validation data. In this section, I fit the model and predict using the split test data with the aim of checking the accuracy on the train data. "
   ]
  },
  {
   "cell_type": "code",
   "execution_count": 27,
   "metadata": {},
   "outputs": [
    {
     "name": "stdout",
     "output_type": "stream",
     "text": [
      "              precision    recall  f1-score   support\n",
      "\n",
      "           0       0.99      1.00      1.00       300\n",
      "           1       0.99      1.00      1.00       272\n",
      "           2       0.99      0.96      0.98       312\n",
      "           3       1.00      1.00      1.00       277\n",
      "           4       1.00      1.00      1.00       299\n",
      "           5       0.97      0.99      0.98       320\n",
      "           6       1.00      1.00      1.00       295\n",
      "           7       1.00      1.00      1.00       299\n",
      "           8       1.00      1.00      1.00       306\n",
      "           9       0.96      0.97      0.96       308\n",
      "          10       0.96      0.93      0.94       312\n",
      "\n",
      "    accuracy                           0.99      3300\n",
      "   macro avg       0.99      0.99      0.99      3300\n",
      "weighted avg       0.99      0.99      0.99      3300\n",
      "\n"
     ]
    }
   ],
   "source": [
    "pa_clf = PassiveAggressiveClassifier(max_iter=50, n_jobs=-1)\n",
    "pa_clf.fit(X_train, y_train)\n",
    "pa_clf_pred = pa_clf.predict(X_test)\n",
    "print(classification_report(y_test, pa_clf_pred))"
   ]
  },
  {
   "cell_type": "markdown",
   "metadata": {},
   "source": [
    "### 5.4. XGBoost Classifier <a class=\"anchor\" id=\"xgboostclassifier\"></a>"
   ]
  },
  {
   "cell_type": "markdown",
   "metadata": {},
   "source": [
    "XGBoost is a popular algorithm known for its robust and powerful nature when it comes to machine learning problems. The motivation behind the selection is guided by extensive reading that testifies to the effectives of the XGBClassifier in handling text data. In this section, the model is fitted and predited using validation to check accuracy. "
   ]
  },
  {
   "cell_type": "code",
   "execution_count": null,
   "metadata": {},
   "outputs": [],
   "source": [
    "xgb_clf = xgb.XGBClassifier(objective='multi:softmax', verbosity='2', num_class=11)"
   ]
  },
  {
   "cell_type": "code",
   "execution_count": null,
   "metadata": {},
   "outputs": [],
   "source": [
    "xgb_clf.fit(X_train, y_train)\n",
    "xgb_pred = xgb_clf.predict(X_test)\n",
    "print(classification_report(y_test, xgb_pred))"
   ]
  },
  {
   "cell_type": "markdown",
   "metadata": {},
   "source": [
    "An accuracy of 0.98 when using 1,500 features on the vectorizer.Overfitting is a possibility in this case. It might come clear when tested on the test dataset. The score on the leaderboard gave 0.76, which confirms that model is overfitting on the validation data. \n",
    "The biggest challenge with the application of XGBClassifier in this challenge is the demand for time and tuning needed to get a better performance. There are models like Passive Aggressive, Logistic Regression and Naive Bayes that have performed better with less tuning. I would recommend the application of XGBClassifier if one has an intimate understanding of the dataset, time is not a factor and access to adequate computing memory. \n"
   ]
  },
  {
   "cell_type": "markdown",
   "metadata": {},
   "source": [
    "### 5.5. Naive Bayes <a class=\"anchor\" id=\"naivebayes\"></a>"
   ]
  },
  {
   "cell_type": "markdown",
   "metadata": {},
   "source": [
    "Naive Bayes methods are founded on the principles of Bayes Theorem. The term 'naive' is the because of the assumption of indepence between every pair of features as long as the class of the variable is provided. \n",
    "* The Multinomial Naive Bayes Classifier is considered suitable for discrete features classification. It can work well with tf-idf fraction counts in some instances.\n",
    "* Gaussian Naive Bayes has the ability to update the parameters of the features using partial fit.\n",
    "* Bernoulli Naive Bayes is also good for discrete features. The key difference with Multinomial is that it works well with binary/boolean features."
   ]
  },
  {
   "cell_type": "code",
   "execution_count": 19,
   "metadata": {},
   "outputs": [],
   "source": [
    "NB = MultinomialNB()\n",
    "GB = GaussianNB()\n",
    "BN = BernoulliNB()"
   ]
  },
  {
   "cell_type": "code",
   "execution_count": 32,
   "metadata": {},
   "outputs": [
    {
     "name": "stdout",
     "output_type": "stream",
     "text": [
      "              precision    recall  f1-score   support\n",
      "\n",
      "           0       1.00      1.00      1.00       300\n",
      "           1       0.99      1.00      0.99       272\n",
      "           2       1.00      1.00      1.00       312\n",
      "           3       1.00      1.00      1.00       277\n",
      "           4       1.00      1.00      1.00       299\n",
      "           5       1.00      1.00      1.00       320\n",
      "           6       1.00      1.00      1.00       295\n",
      "           7       1.00      1.00      1.00       299\n",
      "           8       1.00      1.00      1.00       306\n",
      "           9       1.00      1.00      1.00       308\n",
      "          10       1.00      0.99      0.99       312\n",
      "\n",
      "    accuracy                           1.00      3300\n",
      "   macro avg       1.00      1.00      1.00      3300\n",
      "weighted avg       1.00      1.00      1.00      3300\n",
      "\n"
     ]
    }
   ],
   "source": [
    "NB.fit(X_train, y_train)\n",
    "NB_pred= NB.predict(X_test)\n",
    "print(classification_report(y_test, NB_pred))"
   ]
  },
  {
   "cell_type": "code",
   "execution_count": 20,
   "metadata": {},
   "outputs": [
    {
     "name": "stdout",
     "output_type": "stream",
     "text": [
      "              precision    recall  f1-score   support\n",
      "\n",
      "           0       1.00      1.00      1.00       300\n",
      "           1       0.99      1.00      1.00       272\n",
      "           2       1.00      1.00      1.00       312\n",
      "           3       1.00      1.00      1.00       277\n",
      "           4       1.00      1.00      1.00       299\n",
      "           5       1.00      1.00      1.00       320\n",
      "           6       1.00      1.00      1.00       295\n",
      "           7       1.00      1.00      1.00       299\n",
      "           8       1.00      1.00      1.00       306\n",
      "           9       1.00      1.00      1.00       308\n",
      "          10       1.00      0.99      1.00       312\n",
      "\n",
      "    accuracy                           1.00      3300\n",
      "   macro avg       1.00      1.00      1.00      3300\n",
      "weighted avg       1.00      1.00      1.00      3300\n",
      "\n"
     ]
    }
   ],
   "source": [
    "BN.fit(X_train, y_train)\n",
    "BN_pred= BN.predict(X_test)\n",
    "print(classification_report(y_test, BN_pred))"
   ]
  },
  {
   "cell_type": "code",
   "execution_count": 35,
   "metadata": {},
   "outputs": [
    {
     "name": "stdout",
     "output_type": "stream",
     "text": [
      "              precision    recall  f1-score   support\n",
      "\n",
      "           0       1.00      1.00      1.00       300\n",
      "           1       1.00      1.00      1.00       272\n",
      "           2       0.99      0.98      0.98       312\n",
      "           3       0.98      1.00      0.99       277\n",
      "           4       0.99      0.99      0.99       299\n",
      "           5       1.00      1.00      1.00       320\n",
      "           6       1.00      0.99      0.99       295\n",
      "           7       1.00      1.00      1.00       299\n",
      "           8       1.00      1.00      1.00       306\n",
      "           9       0.98      0.99      0.99       308\n",
      "          10       0.98      0.97      0.98       312\n",
      "\n",
      "    accuracy                           0.99      3300\n",
      "   macro avg       0.99      0.99      0.99      3300\n",
      "weighted avg       0.99      0.99      0.99      3300\n",
      "\n"
     ]
    }
   ],
   "source": [
    "GB.fit(X_train, y_train)\n",
    "GB_pred= GB.predict(X_test)\n",
    "print(classification_report(y_test, GB_pred))"
   ]
  },
  {
   "cell_type": "markdown",
   "metadata": {},
   "source": [
    "Naive Bayes for data vectorized using Count Vectorizer"
   ]
  },
  {
   "cell_type": "code",
   "execution_count": 30,
   "metadata": {},
   "outputs": [
    {
     "name": "stdout",
     "output_type": "stream",
     "text": [
      "              precision    recall  f1-score   support\n",
      "\n",
      "           0       1.00      1.00      1.00       300\n",
      "           1       0.99      1.00      0.99       272\n",
      "           2       1.00      1.00      1.00       312\n",
      "           3       1.00      1.00      1.00       277\n",
      "           4       1.00      1.00      1.00       299\n",
      "           5       1.00      1.00      1.00       320\n",
      "           6       1.00      1.00      1.00       295\n",
      "           7       1.00      1.00      1.00       299\n",
      "           8       1.00      1.00      1.00       306\n",
      "           9       1.00      1.00      1.00       308\n",
      "          10       1.00      0.99      1.00       312\n",
      "\n",
      "    accuracy                           1.00      3300\n",
      "   macro avg       1.00      1.00      1.00      3300\n",
      "weighted avg       1.00      1.00      1.00      3300\n",
      "\n"
     ]
    }
   ],
   "source": [
    "NB.fit(X_train1, y_train1)\n",
    "NB_pred_count= NB.predict(X_test1)\n",
    "print(classification_report(y_test1, NB_pred_count))"
   ]
  },
  {
   "cell_type": "markdown",
   "metadata": {},
   "source": [
    "The Naive Bayes models generated the following outcomes on the leaderboad:\n",
    "* Multinomial Naive Bayes : Highest F1 Score with 0.96\n",
    "* Gaussian Naive Bayes : Second Highest F1 Score of 0.93\n",
    "* Bernoulli Naive Bayes : Third Highest with F1 Score of 0.89"
   ]
  },
  {
   "cell_type": "markdown",
   "metadata": {},
   "source": [
    "The outcome for the validation data has the same accuracy as the data vectorized using TfidVectorizer. The score on the leaderboard is exactly the same as the one scored using TfidVectorizer, which suggests in this particular language identification the two vectorizers with minimal tuning have the same effect."
   ]
  },
  {
   "cell_type": "markdown",
   "metadata": {},
   "source": [
    "Presenting the model with the unseen data (the test dataset)"
   ]
  },
  {
   "cell_type": "code",
   "execution_count": 21,
   "metadata": {},
   "outputs": [],
   "source": [
    "sub_pred = BN.predict(test_new)"
   ]
  },
  {
   "cell_type": "markdown",
   "metadata": {},
   "source": [
    "### 5.6. Submission  <a class=\"anchor\" id=\"submission\"></a>"
   ]
  },
  {
   "cell_type": "code",
   "execution_count": 22,
   "metadata": {},
   "outputs": [],
   "source": [
    "samplesubmission.head()\n",
    "submission = pd.DataFrame()\n",
    "submission['index'] = test_data['index']\n",
    "submission['lang_id'] = label_encoder.inverse_transform(sub_pred)\n",
    "submission.to_csv('submission.csv', index=False)"
   ]
  },
  {
   "cell_type": "markdown",
   "metadata": {},
   "source": [
    "## 6. Conclusion  <a class=\"anchor\" id=\"Conclusion\"></a>"
   ]
  },
  {
   "cell_type": "markdown",
   "metadata": {},
   "source": [
    "The performance of the all the models tried on the provided dataset are as follows:\n",
    "* Logistic Regression - F1 Score 0.87\n",
    "* Passive Aggressive Classifer - F1 Score 0.92\n",
    "* XGBClassifier - F1 Score 0.75\n",
    "* Multinomial NB - F1 Score 0.96\n",
    "* Gaussian NB - F1 Score 0.93\n",
    "* Bernoulli NB - F1 Score o,89\n",
    "\n",
    "From the list, the best performing model is Multinomial NB that uses the principles from Bayes Theorem to classify discrete data. It should noted that hyperparameter tuning for Logistic Regression, Passive Aggressive and XGBoost can lead to significant changes as witnessed in other NLP machine learning challenges. In this cases, there was a limit of time and computing power that made it a challenge to delve deep into tuning parameters for all the models. The Naive Bayes algorithms did very well with minimal tuning, which leads to the conclusion that are the best for classification of text data. The application of Naive Bayes in recommender system is a testament of its prowess in text data classifiction. \n",
    "\n",
    "The most challenging aspect in all the models is the limit of memory when I tried using all the features from the vectorizer. The performance of MultinomialNB improved steadly with increase in the number of features before hitting a plateau at around 50000 features. Computing power is massively affected hardware that can make it difficult to check the full range of some models. \n"
   ]
  }
 ],
 "metadata": {
  "colab": {
   "authorship_tag": "ABX9TyPCZjGvj9uUElUxPwaZm/Cr",
   "name": "Language_Identification.ipynb",
   "provenance": []
  },
  "kernelspec": {
   "display_name": "Python 3 (ipykernel)",
   "language": "python",
   "name": "python3"
  },
  "language_info": {
   "codemirror_mode": {
    "name": "ipython",
    "version": 3
   },
   "file_extension": ".py",
   "mimetype": "text/x-python",
   "name": "python",
   "nbconvert_exporter": "python",
   "pygments_lexer": "ipython3",
   "version": "3.10.2"
  }
 },
 "nbformat": 4,
 "nbformat_minor": 1
}
